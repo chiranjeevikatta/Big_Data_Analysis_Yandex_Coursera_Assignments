{
 "cells": [
  {
   "cell_type": "code",
   "execution_count": 3,
   "metadata": {},
   "outputs": [
    {
     "name": "stdout",
     "output_type": "stream",
     "text": [
      "Overwriting dml_hornors_assignment.hql\n"
     ]
    }
   ],
   "source": [
    "%%writefile dml_hornors_assignment.hql\n",
    "use stackoverflow_;\n",
    "select s.age,\n",
    "sum(case when p.post_type_id =1 then 1 else 0 end)as questions,\n",
    "sum(case when p.post_type_id=2 then 1 else 0 end)as anwers\n",
    "from posts p join users s on p.owner_user_id = s.id \n",
    "where s.age is not null and p.post_type_id in(1,2)\n",
    "group by s.age \n",
    "order by s.age;"
   ]
  },
  {
   "cell_type": "code",
   "execution_count": 4,
   "metadata": {},
   "outputs": [
    {
     "name": "stdout",
     "output_type": "stream",
     "text": [
      "\n",
      "Logging initialized using configuration in jar:file:/usr/local/apache-hive-2.3.6-bin/lib/hive-common-2.3.6.jar!/hive-log4j2.properties Async: true\n",
      "OK\n",
      "Time taken: 3.473 seconds\n",
      "WARNING: Hive-on-MR is deprecated in Hive 2 and may not be available in the future versions. Consider using a different execution engine (i.e. spark, tez) or using Hive 1.X releases.\n",
      "Query ID = jovyan_20210430055133_1056b30d-015b-4400-8ec6-fc57d5fa1ec7\n",
      "Total jobs = 2\n",
      "2021-04-30 05:51:40\tStarting to launch local task to process map join;\tmaximum memory = 477626368\n",
      "2021-04-30 05:51:41\tDump the side-table for tag: 1 with group count: 5951 into file: file:/tmp/jovyan/d07d2456-7d53-4bf6-9ae8-062a5cbaab44/hive_2021-04-30_05-51-33_131_4062331426675468701-1/-local-10006/HashTable-Stage-2/MapJoin-mapfile01--.hashtable\n",
      "2021-04-30 05:51:41\tUploaded 1 File to: file:/tmp/jovyan/d07d2456-7d53-4bf6-9ae8-062a5cbaab44/hive_2021-04-30_05-51-33_131_4062331426675468701-1/-local-10006/HashTable-Stage-2/MapJoin-mapfile01--.hashtable (137665 bytes)\n",
      "2021-04-30 05:51:41\tEnd of local task; Time Taken: 1.026 sec.\n",
      "Execution completed successfully\n",
      "MapredLocal task succeeded\n",
      "Launching Job 1 out of 2\n",
      "Number of reduce tasks not specified. Estimated from input data size: 1\n",
      "In order to change the average load for a reducer (in bytes):\n",
      "  set hive.exec.reducers.bytes.per.reducer=<number>\n",
      "In order to limit the maximum number of reducers:\n",
      "  set hive.exec.reducers.max=<number>\n",
      "In order to set a constant number of reducers:\n",
      "  set mapreduce.job.reduces=<number>\n",
      "Starting Job = job_1619758912388_0008, Tracking URL = http://172.17.0.2:8088/proxy/application_1619758912388_0008/\n",
      "Kill Command = /usr/local/hadoop/bin/hadoop job  -kill job_1619758912388_0008\n",
      "Hadoop job information for Stage-2: number of mappers: 1; number of reducers: 1\n",
      "2021-04-30 05:51:52,513 Stage-2 map = 0%,  reduce = 0%\n",
      "2021-04-30 05:51:59,662 Stage-2 map = 100%,  reduce = 0%, Cumulative CPU 5.4 sec\n",
      "2021-04-30 05:52:03,740 Stage-2 map = 100%,  reduce = 100%, Cumulative CPU 6.52 sec\n",
      "MapReduce Total cumulative CPU time: 6 seconds 520 msec\n",
      "Ended Job = job_1619758912388_0008\n",
      "Launching Job 2 out of 2\n",
      "Number of reduce tasks determined at compile time: 1\n",
      "In order to change the average load for a reducer (in bytes):\n",
      "  set hive.exec.reducers.bytes.per.reducer=<number>\n",
      "In order to limit the maximum number of reducers:\n",
      "  set hive.exec.reducers.max=<number>\n",
      "In order to set a constant number of reducers:\n",
      "  set mapreduce.job.reduces=<number>\n",
      "Starting Job = job_1619758912388_0009, Tracking URL = http://172.17.0.2:8088/proxy/application_1619758912388_0009/\n",
      "Kill Command = /usr/local/hadoop/bin/hadoop job  -kill job_1619758912388_0009\n",
      "Hadoop job information for Stage-3: number of mappers: 1; number of reducers: 1\n",
      "2021-04-30 05:52:14,318 Stage-3 map = 0%,  reduce = 0%\n",
      "2021-04-30 05:52:18,394 Stage-3 map = 100%,  reduce = 0%, Cumulative CPU 0.97 sec\n",
      "2021-04-30 05:52:23,497 Stage-3 map = 100%,  reduce = 100%, Cumulative CPU 2.1 sec\n",
      "MapReduce Total cumulative CPU time: 2 seconds 100 msec\n",
      "Ended Job = job_1619758912388_0009\n",
      "MapReduce Jobs Launched: \n",
      "Stage-Stage-2: Map: 1  Reduce: 1   Cumulative CPU: 6.52 sec   HDFS Read: 2431988 HDFS Write: 1056 SUCCESS\n",
      "Stage-Stage-3: Map: 1  Reduce: 1   Cumulative CPU: 2.1 sec   HDFS Read: 6977 HDFS Write: 1039 SUCCESS\n",
      "Total MapReduce CPU Time Spent: 8 seconds 620 msec\n",
      "OK\n",
      "14\t1\t0\n",
      "15\t1\t2\n",
      "16\t2\t0\n",
      "17\t0\t1\n",
      "18\t4\t1\n",
      "19\t1\t1\n",
      "20\t0\t2\n",
      "21\t11\t24\n",
      "22\t6\t18\n",
      "23\t12\t15\n",
      "24\t16\t27\n",
      "25\t20\t33\n",
      "26\t23\t44\n",
      "27\t28\t56\n",
      "28\t24\t37\n",
      "29\t24\t66\n",
      "30\t26\t67\n",
      "31\t17\t33\n",
      "32\t13\t48\n",
      "33\t11\t40\n",
      "34\t24\t36\n",
      "35\t12\t42\n",
      "36\t8\t64\n",
      "37\t9\t35\n",
      "38\t6\t17\n",
      "39\t3\t7\n",
      "40\t1\t13\n",
      "41\t5\t20\n",
      "42\t5\t22\n",
      "43\t2\t26\n",
      "44\t7\t35\n",
      "45\t1\t4\n",
      "46\t7\t9\n",
      "47\t1\t1\n",
      "48\t1\t1\n",
      "49\t1\t26\n",
      "50\t1\t26\n",
      "51\t4\t5\n",
      "52\t0\t2\n",
      "53\t0\t2\n",
      "54\t0\t1\n",
      "57\t0\t3\n",
      "58\t1\t57\n",
      "60\t0\t6\n",
      "61\t0\t3\n",
      "64\t2\t1\n",
      "86\t0\t1\n",
      "96\t3\t1\n",
      "Time taken: 51.414 seconds, Fetched: 48 row(s)\n"
     ]
    }
   ],
   "source": [
    "!hive -f dml_hornors_assignment.hql"
   ]
  },
  {
   "cell_type": "code",
   "execution_count": null,
   "metadata": {},
   "outputs": [],
   "source": []
  }
 ],
 "metadata": {
  "kernelspec": {
   "display_name": "Python 3",
   "language": "python",
   "name": "python3"
  },
  "language_info": {
   "codemirror_mode": {
    "name": "ipython",
    "version": 3
   },
   "file_extension": ".py",
   "mimetype": "text/x-python",
   "name": "python",
   "nbconvert_exporter": "python",
   "pygments_lexer": "ipython3",
   "version": "3.6.6"
  }
 },
 "nbformat": 4,
 "nbformat_minor": 2
}
