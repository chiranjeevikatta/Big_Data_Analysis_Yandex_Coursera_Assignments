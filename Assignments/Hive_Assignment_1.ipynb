{
 "cells": [
  {
   "cell_type": "code",
   "execution_count": 27,
   "metadata": {},
   "outputs": [
    {
     "name": "stdout",
     "output_type": "stream",
     "text": [
      "Overwriting task1_create_external_table.hql\n"
     ]
    }
   ],
   "source": [
    "%%writefile task1_create_external_table.hql\n",
    "-- Creating external table posts_sample_external\n",
    "\n",
    "ADD JAR /opt/cloudera/parcels/CDH/lib/hive/lib/hive-contrib.jar;\n",
    "ADD JAR /opt/cloudera/parcels/CDH/lib/hive/lib/hive-serde.jar;\n",
    "\n",
    "USE demodb;\n",
    "DROP TABLE IF EXISTS posts_sample_external;\n",
    "\n",
    "Create EXTERNAL TABLE posts_sample_external (\n",
    "                id STRING,\n",
    "                year STRING,\n",
    "                month STRING\n",
    ")\n",
    "\n",
    "ROW FORMAT\n",
    "    SERDE 'org.apache.hadoop.hive.contrib.serde2.RegexSerDe'\n",
    "    WITH SERDEPROPERTIES (\n",
    "    \"input.regex\" = '.*?(?=.*\\\\bId=\\\"(\\\\d+)\\\").*(?<=\\\\bCreationDate\\\\b=\\\")(\\\\d*)-(\\\\d*).*'\n",
    ")\n",
    "LOCATION '/data/stackexchange1000/posts'\n",
    "TBLPROPERTIES (\"skip.header.line.count\"=\"1\");"
   ]
  },
  {
   "cell_type": "code",
   "execution_count": 28,
   "metadata": {},
   "outputs": [
    {
     "name": "stdout",
     "output_type": "stream",
     "text": [
      "Overwriting task1_create_managed_table.hql\n"
     ]
    }
   ],
   "source": [
    "%%writefile task1_create_managed_table.hql\n",
    "-- creating managed table with partitioned by year and month\n",
    "\n",
    "USE demodb;\n",
    "DROP TABLE IF EXISTS posts_sample;\n",
    "\n",
    "CREATE TABLE posts_sample (\n",
    "             id STRING\n",
    ") \n",
    "PARTITIONED BY (year STRING, month STRING);"
   ]
  },
  {
   "cell_type": "code",
   "execution_count": 34,
   "metadata": {},
   "outputs": [
    {
     "name": "stdout",
     "output_type": "stream",
     "text": [
      "Overwriting task1_insert_table.hql\n"
     ]
    }
   ],
   "source": [
    "%%writefile task1_insert_table.hql\n",
    "\n",
    "-- Inserting data into the managed table\n",
    "\n",
    "set hive.exec.max.dynamic.partitions=300;\n",
    "set hive.exec.max.dynamic.partitions.pernode=256;\n",
    "\n",
    "USE demodb;\n",
    "-- filling managed posts table from external table\n",
    "SET hive.exec.dynamic.partition.mode=nonstrict;\n",
    "\n",
    "-- Insert query\n",
    "FROM posts_sample_external\n",
    "INSERT OVERWRITE TABLE posts_sample\n",
    "PARTITION (year, month)\n",
    "SELECT id, year, month\n",
    "WHERE year IS NOT NULL and month is not NULL;"
   ]
  },
  {
   "cell_type": "code",
   "execution_count": 31,
   "metadata": {},
   "outputs": [
    {
     "name": "stdout",
     "output_type": "stream",
     "text": [
      "Overwriting task1_result.hql\n"
     ]
    }
   ],
   "source": [
    "%%writefile task1_result.hql\n",
    "-- Your code here\n",
    "\n",
    "USE demodb;\n",
    "\n",
    "SELECT concat_ws(\"\\t\", year, concat_ws(\"-\", year, month), c)\n",
    "FROM (\n",
    "    SELECT year, month, STRING(COUNT(*)) as c, ROW_NUMBER() OVER (ORDER BY year, month) as rw\n",
    "    FROM posts_sample\n",
    "    GROUP BY year, month\n",
    ") as tmp\n",
    "WHERE rw=3;"
   ]
  },
  {
   "cell_type": "code",
   "execution_count": 35,
   "metadata": {},
   "outputs": [],
   "source": [
    "!cat task1_create_external_table.hql > task1.hql\n",
    "!cat task1_create_managed_table.hql >> task1.hql\n",
    "!cat task1_insert_table.hql >> task1.hql\n",
    "!cat task1_result.hql >> task1.hql"
   ]
  },
  {
   "cell_type": "code",
   "execution_count": 36,
   "metadata": {},
   "outputs": [
    {
     "name": "stdout",
     "output_type": "stream",
     "text": [
      "-- Creating external table posts_sample_external\r\n",
      "\r\n",
      "ADD JAR /opt/cloudera/parcels/CDH/lib/hive/lib/hive-contrib.jar;\r\n",
      "ADD JAR /opt/cloudera/parcels/CDH/lib/hive/lib/hive-serde.jar;\r\n",
      "\r\n",
      "USE demodb;\r\n",
      "DROP TABLE IF EXISTS posts_sample_external;\r\n",
      "\r\n",
      "Create EXTERNAL TABLE posts_sample_external (\r\n",
      "                id STRING,\r\n",
      "                year STRING,\r\n",
      "                month STRING\r\n",
      ")\r\n",
      "\r\n",
      "ROW FORMAT\r\n",
      "    SERDE 'org.apache.hadoop.hive.contrib.serde2.RegexSerDe'\r\n",
      "    WITH SERDEPROPERTIES (\r\n",
      "    \"input.regex\" = '.*?(?=.*\\\\bId=\\\"(\\\\d+)\\\").*(?<=\\\\bCreationDate\\\\b=\\\")(\\\\d*)-(\\\\d*).*'\r\n",
      ")\r\n",
      "LOCATION '/data/stackexchange1000/posts'\r\n",
      "TBLPROPERTIES (\"skip.header.line.count\"=\"1\");\r\n",
      "-- creating managed table with partitioned by year and month\r\n",
      "\r\n",
      "USE demodb;\r\n",
      "DROP TABLE IF EXISTS posts_sample;\r\n",
      "\r\n",
      "CREATE TABLE posts_sample (\r\n",
      "             id STRING\r\n",
      ") \r\n",
      "PARTITIONED BY (year STRING, month STRING);\r\n",
      "\r\n",
      "-- Inserting data into the managed table\r\n",
      "\r\n",
      "set hive.exec.max.dynamic.partitions=300;\r\n",
      "set hive.exec.max.dynamic.partitions.pernode=256;\r\n",
      "\r\n",
      "USE demodb;\r\n",
      "-- filling managed posts table from external table\r\n",
      "SET hive.exec.dynamic.partition.mode=nonstrict;\r\n",
      "\r\n",
      "-- Insert query\r\n",
      "FROM posts_sample_external\r\n",
      "INSERT OVERWRITE TABLE posts_sample\r\n",
      "PARTITION (year, month)\r\n",
      "SELECT id, year, month\r\n",
      "WHERE year IS NOT NULL and month is not NULL;\r\n",
      "-- Your code here\r\n",
      "\r\n",
      "USE demodb;\r\n",
      "\r\n",
      "SELECT concat_ws(\"\\t\", year, concat_ws(\"-\", year, month), c)\r\n",
      "FROM (\r\n",
      "    SELECT year, month, STRING(COUNT(*)) as c, ROW_NUMBER() OVER (ORDER BY year, month) as rw\r\n",
      "    FROM posts_sample\r\n",
      "    GROUP BY year, month\r\n",
      ") as tmp\r\n",
      "WHERE rw=3;\r\n"
     ]
    }
   ],
   "source": [
    "!cat task1.hql"
   ]
  },
  {
   "cell_type": "code",
   "execution_count": 37,
   "metadata": {},
   "outputs": [
    {
     "name": "stdout",
     "output_type": "stream",
     "text": [
      "2008\t2008-10\t73\n"
     ]
    },
    {
     "name": "stderr",
     "output_type": "stream",
     "text": [
      "\n",
      "Logging initialized using configuration in jar:file:/usr/local/apache-hive-2.3.6-bin/lib/hive-common-2.3.6.jar!/hive-log4j2.properties Async: true\n",
      "Added [/opt/cloudera/parcels/CDH/lib/hive/lib/hive-contrib.jar] to class path\n",
      "Added resources: [/opt/cloudera/parcels/CDH/lib/hive/lib/hive-contrib.jar]\n",
      "Added [/opt/cloudera/parcels/CDH/lib/hive/lib/hive-serde.jar] to class path\n",
      "Added resources: [/opt/cloudera/parcels/CDH/lib/hive/lib/hive-serde.jar]\n",
      "OK\n",
      "Time taken: 0.749 seconds\n",
      "OK\n",
      "Time taken: 0.296 seconds\n",
      "OK\n",
      "Time taken: 0.181 seconds\n",
      "OK\n",
      "Time taken: 0.036 seconds\n",
      "OK\n",
      "Time taken: 1.092 seconds\n",
      "OK\n",
      "Time taken: 0.158 seconds\n",
      "OK\n",
      "Time taken: 0.025 seconds\n",
      "WARNING: Hive-on-MR is deprecated in Hive 2 and may not be available in the future versions. Consider using a different execution engine (i.e. spark, tez) or using Hive 1.X releases.\n",
      "Query ID = jovyan_20210427123316_3529313e-4793-4dd1-bc32-5bee879f319a\n",
      "Total jobs = 3\n",
      "Launching Job 1 out of 3\n",
      "Number of reduce tasks is set to 0 since there's no reduce operator\n",
      "Starting Job = job_1619521145414_0014, Tracking URL = http://172.17.0.62:8088/proxy/application_1619521145414_0014/\n",
      "Kill Command = /usr/local/hadoop/bin/hadoop job  -kill job_1619521145414_0014\n",
      "Hadoop job information for Stage-1: number of mappers: 1; number of reducers: 0\n",
      "2021-04-27 12:33:24,304 Stage-1 map = 0%,  reduce = 0%\n",
      "2021-04-27 12:33:39,881 Stage-1 map = 100%,  reduce = 0%, Cumulative CPU 11.07 sec\n",
      "MapReduce Total cumulative CPU time: 11 seconds 360 msec\n",
      "Ended Job = job_1619521145414_0014\n",
      "Stage-4 is selected by condition resolver.\n",
      "Stage-3 is filtered out by condition resolver.\n",
      "Stage-5 is filtered out by condition resolver.\n",
      "Moving data to directory hdfs://localhost:9000/user/hive/warehouse/demodb.db/posts_sample/.hive-staging_hive_2021-04-27_12-33-16_747_4786098447408010137-1/-ext-10000\n",
      "Loading data to table demodb.posts_sample partition (year=null, month=null)\n",
      "\n",
      "\n",
      "\t Time taken to load dynamic partitions: 3.573 seconds\n",
      "\t Time taken for adding to write entity : 0.006 seconds\n",
      "MapReduce Jobs Launched: \n",
      "Stage-Stage-1: Map: 1   Cumulative CPU: 11.36 sec   HDFS Read: 60004191 HDFS Write: 347300 SUCCESS\n",
      "Total MapReduce CPU Time Spent: 11 seconds 360 msec\n",
      "OK\n",
      "Time taken: 30.188 seconds\n",
      "OK\n",
      "Time taken: 0.027 seconds\n",
      "WARNING: Hive-on-MR is deprecated in Hive 2 and may not be available in the future versions. Consider using a different execution engine (i.e. spark, tez) or using Hive 1.X releases.\n",
      "Query ID = jovyan_20210427123346_0dedb368-3002-44f1-bff5-c4a66d4767de\n",
      "Total jobs = 2\n",
      "Launching Job 1 out of 2\n",
      "Number of reduce tasks not specified. Estimated from input data size: 1\n",
      "In order to change the average load for a reducer (in bytes):\n",
      "  set hive.exec.reducers.bytes.per.reducer=<number>\n",
      "In order to limit the maximum number of reducers:\n",
      "  set hive.exec.reducers.max=<number>\n",
      "In order to set a constant number of reducers:\n",
      "  set mapreduce.job.reduces=<number>\n",
      "Starting Job = job_1619521145414_0015, Tracking URL = http://172.17.0.62:8088/proxy/application_1619521145414_0015/\n",
      "Kill Command = /usr/local/hadoop/bin/hadoop job  -kill job_1619521145414_0015\n",
      "Hadoop job information for Stage-1: number of mappers: 1; number of reducers: 1\n",
      "2021-04-27 12:33:54,600 Stage-1 map = 0%,  reduce = 0%\n",
      "2021-04-27 12:33:58,711 Stage-1 map = 100%,  reduce = 0%, Cumulative CPU 1.96 sec\n",
      "2021-04-27 12:34:03,793 Stage-1 map = 100%,  reduce = 100%, Cumulative CPU 2.91 sec\n",
      "MapReduce Total cumulative CPU time: 2 seconds 910 msec\n",
      "Ended Job = job_1619521145414_0015\n",
      "Launching Job 2 out of 2\n",
      "Number of reduce tasks not specified. Estimated from input data size: 1\n",
      "In order to change the average load for a reducer (in bytes):\n",
      "  set hive.exec.reducers.bytes.per.reducer=<number>\n",
      "In order to limit the maximum number of reducers:\n",
      "  set hive.exec.reducers.max=<number>\n",
      "In order to set a constant number of reducers:\n",
      "  set mapreduce.job.reduces=<number>\n",
      "Starting Job = job_1619521145414_0016, Tracking URL = http://172.17.0.62:8088/proxy/application_1619521145414_0016/\n",
      "Kill Command = /usr/local/hadoop/bin/hadoop job  -kill job_1619521145414_0016\n",
      "Hadoop job information for Stage-2: number of mappers: 1; number of reducers: 1\n",
      "2021-04-27 12:34:14,927 Stage-2 map = 0%,  reduce = 0%\n",
      "2021-04-27 12:34:19,024 Stage-2 map = 100%,  reduce = 0%, Cumulative CPU 1.13 sec\n",
      "2021-04-27 12:34:24,097 Stage-2 map = 100%,  reduce = 100%, Cumulative CPU 2.85 sec\n",
      "MapReduce Total cumulative CPU time: 2 seconds 850 msec\n",
      "Ended Job = job_1619521145414_0016\n",
      "MapReduce Jobs Launched: \n",
      "Stage-Stage-1: Map: 1  Reduce: 1   Cumulative CPU: 2.91 sec   HDFS Read: 389579 HDFS Write: 2903 SUCCESS\n",
      "Stage-Stage-2: Map: 1  Reduce: 1   Cumulative CPU: 2.85 sec   HDFS Read: 11960 HDFS Write: 115 SUCCESS\n",
      "Total MapReduce CPU Time Spent: 5 seconds 760 msec\n",
      "OK\n",
      "Time taken: 38.189 seconds, Fetched: 1 row(s)\n"
     ]
    }
   ],
   "source": [
    "%%bash\n",
    "hive -f task1.hql"
   ]
  },
  {
   "cell_type": "code",
   "execution_count": null,
   "metadata": {},
   "outputs": [],
   "source": []
  }
 ],
 "metadata": {
  "kernelspec": {
   "display_name": "Python 3",
   "language": "python",
   "name": "python3"
  },
  "language_info": {
   "codemirror_mode": {
    "name": "ipython",
    "version": 3
   },
   "file_extension": ".py",
   "mimetype": "text/x-python",
   "name": "python",
   "nbconvert_exporter": "python",
   "pygments_lexer": "ipython3",
   "version": "3.6.6"
  }
 },
 "nbformat": 4,
 "nbformat_minor": 2
}
