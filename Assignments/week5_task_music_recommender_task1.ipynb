{
 "cells": [
  {
   "cell_type": "code",
   "execution_count": 29,
   "metadata": {},
   "outputs": [],
   "source": [
    "from pyspark.sql import Window\n",
    "from pyspark.sql.functions import row_number, sum\n",
    "\n",
    "def norm(df, key1, key2, field, n): \n",
    "    \n",
    "    window = Window.partitionBy(key1).orderBy(col(field).desc())\n",
    "        \n",
    "    topsDF = df.withColumn(\"row_number\", row_number().over(window)) \\\n",
    "        .filter(col(\"row_number\") <= n) \\\n",
    "        .drop(col(\"row_number\")) \n",
    "        \n",
    "    tmpDF = topsDF.groupBy(col(key1)).agg(col(key1), sum(col(field)).alias(\"sum_\" + field))\n",
    "   \n",
    "    normalizedDF = topsDF.join(tmpDF, key1, \"inner\") \\\n",
    "        .withColumn(\"norm_\" + field, col(field) / col(\"sum_\" + field)) \\\n",
    "        .cache()\n",
    "\n",
    "    return normalizedDF"
   ]
  },
  {
   "cell_type": "code",
   "execution_count": 30,
   "metadata": {},
   "outputs": [],
   "source": [
    "from pyspark.sql import SparkSession\n",
    "spark_session = SparkSession.builder.enableHiveSupport().master(\"yarn\").getOrCreate()"
   ]
  },
  {
   "cell_type": "code",
   "execution_count": 31,
   "metadata": {},
   "outputs": [],
   "source": [
    "from pyspark.sql import Window\n",
    "from pyspark.sql.functions import row_number, sum, col, abs, count"
   ]
  },
  {
   "cell_type": "code",
   "execution_count": 32,
   "metadata": {},
   "outputs": [],
   "source": [
    "data = spark_session.read.parquet(\"/data/sample264\")\n",
    "meta = spark_session.read.parquet(\"/data/meta\")"
   ]
  },
  {
   "cell_type": "markdown",
   "metadata": {},
   "source": [
    "#### Normalization could be done by next function"
   ]
  },
  {
   "cell_type": "code",
   "execution_count": 33,
   "metadata": {},
   "outputs": [],
   "source": [
    "data1 = data.select(\n",
    "    col('userId').alias('userId'), \n",
    "    col('trackId').alias('trackId1'), \n",
    "    col('timestamp').alias('timestamp1')\n",
    ")\n",
    "\n",
    "data2 = data.select(\n",
    "    col('userId').alias('userId'), \n",
    "    col('trackId').alias('trackId2'), \n",
    "    col('timestamp').alias('timestamp2')\n",
    ")"
   ]
  },
  {
   "cell_type": "code",
   "execution_count": 34,
   "metadata": {},
   "outputs": [],
   "source": [
    "newdf = (data1.join(data2,'userId').cache()\n",
    "         .filter(col('trackId1') != col('trackId2'))\n",
    "         .filter(abs(col('timestamp1') - col('timestamp2')) <= 420).cache()\n",
    "         .groupBy(col('trackId1'), col('trackId2'))\n",
    "         .count().alias('count').cache()\n",
    "        )"
   ]
  },
  {
   "cell_type": "code",
   "execution_count": 35,
   "metadata": {},
   "outputs": [],
   "source": [
    "normalized = norm(newdf, \"trackId1\", \"trackId2\", \"count\", 40)"
   ]
  },
  {
   "cell_type": "code",
   "execution_count": 36,
   "metadata": {},
   "outputs": [],
   "source": [
    "result = normalized.orderBy(col('norm_count').desc(),col('trackId1'),col('trackId2')).limit(40)"
   ]
  },
  {
   "cell_type": "code",
   "execution_count": 37,
   "metadata": {},
   "outputs": [],
   "source": [
    "finalresult = result.select('trackId1','trackId2')"
   ]
  },
  {
   "cell_type": "code",
   "execution_count": 38,
   "metadata": {},
   "outputs": [
    {
     "name": "stdout",
     "output_type": "stream",
     "text": [
      "798256\t923706\n",
      "798319\t837992\n",
      "798322\t876562\n",
      "798331\t827364\n",
      "798335\t840741\n",
      "798374\t816874\n",
      "798375\t810685\n",
      "798379\t812055\n",
      "798380\t840113\n",
      "798396\t817687\n",
      "798398\t926302\n",
      "798405\t867217\n",
      "798443\t905923\n",
      "798457\t918918\n",
      "798460\t891840\n",
      "798461\t940379\n",
      "798470\t840814\n",
      "798474\t963162\n",
      "798477\t883244\n",
      "798485\t955521\n",
      "798505\t905671\n",
      "798545\t949238\n",
      "798550\t936295\n",
      "798626\t845438\n",
      "798691\t818279\n",
      "798692\t898823\n",
      "798702\t811440\n",
      "798704\t937570\n",
      "798725\t933147\n",
      "798738\t894170\n",
      "798745\t799665\n",
      "798782\t956938\n",
      "798801\t950802\n",
      "798820\t890393\n",
      "798833\t916319\n",
      "798865\t962662\n",
      "798931\t893574\n",
      "798946\t946408\n",
      "799012\t809997\n",
      "799024\t935246\n"
     ]
    }
   ],
   "source": [
    "for t1,t2 in finalresult.collect():\n",
    "    print('{}\\t{}'.format(t1,t2))"
   ]
  },
  {
   "cell_type": "code",
   "execution_count": null,
   "metadata": {},
   "outputs": [],
   "source": []
  }
 ],
 "metadata": {
  "kernelspec": {
   "display_name": "Python 3",
   "language": "python",
   "name": "python3"
  },
  "language_info": {
   "codemirror_mode": {
    "name": "ipython",
    "version": 3
   },
   "file_extension": ".py",
   "mimetype": "text/x-python",
   "name": "python",
   "nbconvert_exporter": "python",
   "pygments_lexer": "ipython3",
   "version": "3.6.6"
  }
 },
 "nbformat": 4,
 "nbformat_minor": 2
}
