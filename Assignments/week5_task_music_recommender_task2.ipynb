{
 "cells": [
  {
   "cell_type": "code",
   "execution_count": 1,
   "metadata": {},
   "outputs": [],
   "source": [
    "import pyspark"
   ]
  },
  {
   "cell_type": "code",
   "execution_count": 3,
   "metadata": {},
   "outputs": [],
   "source": [
    "from pyspark.sql import SparkSession"
   ]
  },
  {
   "cell_type": "code",
   "execution_count": 6,
   "metadata": {},
   "outputs": [],
   "source": [
    "spark = SparkSession.builder.appName('week5GraphTask2').enableHiveSupport().master('yarn').getOrCreate()"
   ]
  },
  {
   "cell_type": "code",
   "execution_count": 7,
   "metadata": {},
   "outputs": [
    {
     "data": {
      "text/html": [
       "\n",
       "            <div>\n",
       "                <p><b>SparkSession - hive</b></p>\n",
       "                \n",
       "        <div>\n",
       "            <p><b>SparkContext</b></p>\n",
       "\n",
       "            <p><a href=\"http://172.17.0.67:4040\">Spark UI</a></p>\n",
       "\n",
       "            <dl>\n",
       "              <dt>Version</dt>\n",
       "                <dd><code>v2.4.7</code></dd>\n",
       "              <dt>Master</dt>\n",
       "                <dd><code>yarn</code></dd>\n",
       "              <dt>AppName</dt>\n",
       "                <dd><code>week5GraphTask2</code></dd>\n",
       "            </dl>\n",
       "        </div>\n",
       "        \n",
       "            </div>\n",
       "        "
      ],
      "text/plain": [
       "<pyspark.sql.session.SparkSession at 0x7f6ef7c88c50>"
      ]
     },
     "execution_count": 7,
     "metadata": {},
     "output_type": "execute_result"
    }
   ],
   "source": [
    "spark"
   ]
  },
  {
   "cell_type": "code",
   "execution_count": 58,
   "metadata": {},
   "outputs": [],
   "source": [
    "from pyspark.sql import Window\n",
    "from pyspark.sql.functions import row_number,col,sum,count"
   ]
  },
  {
   "cell_type": "code",
   "execution_count": 11,
   "metadata": {},
   "outputs": [],
   "source": [
    "data = spark.read.parquet(\"/data/sample264\")"
   ]
  },
  {
   "cell_type": "code",
   "execution_count": 12,
   "metadata": {},
   "outputs": [
    {
     "name": "stdout",
     "output_type": "stream",
     "text": [
      "+------+-------+--------+----------+\n",
      "|userId|trackId|artistId| timestamp|\n",
      "+------+-------+--------+----------+\n",
      "| 13065| 944906|  978428|1501588527|\n",
      "|101897| 799685|  989262|1501555608|\n",
      "|215049| 871513|  988199|1501604269|\n",
      "|309769| 857670|  987809|1501540265|\n",
      "|397833| 903510|  994595|1501597615|\n",
      "|501769| 818149|  994975|1501577955|\n",
      "|601353| 958990|  973098|1501602467|\n",
      "|710921| 916226|  972031|1501611582|\n",
      "|  6743| 801006|  994339|1501584964|\n",
      "|152407| 913509|  994334|1501571055|\n",
      "|256855| 922936| 1001905|1501592059|\n",
      "|366423| 858904|  974503|1501571685|\n",
      "|479319| 816927|  975237|1501589184|\n",
      "|589911| 960078|  995315|1501555145|\n",
      "|673367| 825174|  970511|1501549783|\n",
      "|  2237| 933052| 1000942|1501574276|\n",
      "|108477| 850266|  974937|1501570638|\n",
      "|225725| 878963|  986907|1501574389|\n",
      "|302781| 934017|  974572|1501600590|\n",
      "|399037| 901023|  974580|1501603463|\n",
      "+------+-------+--------+----------+\n",
      "only showing top 20 rows\n",
      "\n"
     ]
    }
   ],
   "source": [
    "# data.show()"
   ]
  },
  {
   "cell_type": "code",
   "execution_count": 43,
   "metadata": {},
   "outputs": [],
   "source": [
    "datagrp = data.groupBy(col('userId'),col('trackId')).agg(count(col('userId')).alias('ct'))"
   ]
  },
  {
   "cell_type": "code",
   "execution_count": 49,
   "metadata": {},
   "outputs": [],
   "source": [
    "window = Window.partitionBy(col('userId')).orderBy(col('ct').desc())"
   ]
  },
  {
   "cell_type": "code",
   "execution_count": 57,
   "metadata": {},
   "outputs": [
    {
     "name": "stdout",
     "output_type": "stream",
     "text": [
      "+------+-------+---+\n",
      "|userId|trackId| ct|\n",
      "+------+-------+---+\n",
      "| 13065| 922861|  1|\n",
      "| 13065| 937443|  1|\n",
      "| 13065| 802612|  1|\n",
      "| 13065| 838399|  1|\n",
      "| 13065| 863025|  1|\n",
      "| 13065| 865663|  1|\n",
      "| 13065| 829407|  1|\n",
      "| 13065| 868885|  1|\n",
      "| 13065| 963199|  2|\n",
      "| 13065| 842664|  1|\n",
      "| 13065| 848614|  1|\n",
      "| 13065| 949510|  1|\n",
      "| 13065| 944906|  1|\n",
      "| 13065| 844957|  1|\n",
      "+------+-------+---+\n",
      "\n"
     ]
    }
   ],
   "source": [
    "# datagrp.filter(col('userId') == 13065).show()"
   ]
  },
  {
   "cell_type": "code",
   "execution_count": 61,
   "metadata": {},
   "outputs": [],
   "source": [
    "datalmt = datagrp.withColumn('row_number',row_number().over(window))\\\n",
    "    .filter(col('row_number')<= 1000).drop(col('row_number'))"
   ]
  },
  {
   "cell_type": "code",
   "execution_count": 65,
   "metadata": {},
   "outputs": [
    {
     "name": "stdout",
     "output_type": "stream",
     "text": [
      "+------+-------+---+\n",
      "|userId|trackId| ct|\n",
      "+------+-------+---+\n",
      "|  3175| 947718|  1|\n",
      "|  3175| 940951|  1|\n",
      "|  3175| 845631|  1|\n",
      "|  3175| 864690|  1|\n",
      "|  3175| 831005|  1|\n",
      "|  3175| 930432|  1|\n",
      "|  3175| 965012|  1|\n",
      "|  3175| 858940|  1|\n",
      "|  3175| 829307|  1|\n",
      "|  5518| 961148|  3|\n",
      "|  5518| 873588|  2|\n",
      "|  5518| 930964|  1|\n",
      "|  5803| 810419|  1|\n",
      "|  6654| 802183|  1|\n",
      "|  6654| 886091|  1|\n",
      "|  6654| 825094|  1|\n",
      "|  6654| 846873|  1|\n",
      "|  6654| 928999|  1|\n",
      "|  7253| 800755|  1|\n",
      "|  7253| 935631|  1|\n",
      "+------+-------+---+\n",
      "only showing top 20 rows\n",
      "\n"
     ]
    }
   ],
   "source": [
    "# datalmt.show()"
   ]
  },
  {
   "cell_type": "code",
   "execution_count": 77,
   "metadata": {},
   "outputs": [],
   "source": [
    "datalmtgrp = datalmt.groupBy(col('userId')).agg(sum(col('ct')).alias('sum_ct'))"
   ]
  },
  {
   "cell_type": "code",
   "execution_count": 79,
   "metadata": {},
   "outputs": [],
   "source": [
    "data_norm  = datagrp.join(datalmtgrp,'userId','inner').withColumn('norm',col('ct')/col('sum_ct'))"
   ]
  },
  {
   "cell_type": "code",
   "execution_count": 85,
   "metadata": {},
   "outputs": [],
   "source": [
    "res = data_norm.orderBy(col('norm').desc(),col('userId'),col('trackId')).limit(40)"
   ]
  },
  {
   "cell_type": "code",
   "execution_count": 86,
   "metadata": {},
   "outputs": [],
   "source": [
    "res_final = res.select(col('userId'),col('trackId'))"
   ]
  },
  {
   "cell_type": "code",
   "execution_count": 87,
   "metadata": {},
   "outputs": [
    {
     "name": "stdout",
     "output_type": "stream",
     "text": [
      "66\t965774\n",
      "116\t867268\n",
      "128\t852564\n",
      "131\t880170\n",
      "195\t946408\n",
      "215\t860111\n",
      "235\t897176\n",
      "300\t857973\n",
      "321\t915545\n",
      "328\t943482\n",
      "333\t818202\n",
      "346\t864911\n",
      "356\t961308\n",
      "428\t943572\n",
      "431\t902497\n",
      "445\t831381\n",
      "488\t841340\n",
      "542\t815388\n",
      "617\t946395\n",
      "649\t901672\n",
      "658\t937522\n",
      "662\t881433\n",
      "698\t935934\n",
      "708\t952432\n",
      "746\t879259\n",
      "747\t879259\n",
      "776\t946408\n",
      "784\t806468\n",
      "806\t866581\n",
      "811\t948017\n",
      "837\t799685\n",
      "901\t871513\n",
      "923\t879322\n",
      "934\t940714\n",
      "957\t945183\n",
      "989\t878364\n",
      "999\t967768\n",
      "1006\t962774\n",
      "1049\t849484\n",
      "1057\t920458\n"
     ]
    }
   ],
   "source": [
    "for t1,t2 in res_final.collect():\n",
    "    print('{}\\t{}'.format(t1,t2))"
   ]
  },
  {
   "cell_type": "code",
   "execution_count": null,
   "metadata": {},
   "outputs": [],
   "source": []
  }
 ],
 "metadata": {
  "kernelspec": {
   "display_name": "Python 3",
   "language": "python",
   "name": "python3"
  },
  "language_info": {
   "codemirror_mode": {
    "name": "ipython",
    "version": 3
   },
   "file_extension": ".py",
   "mimetype": "text/x-python",
   "name": "python",
   "nbconvert_exporter": "python",
   "pygments_lexer": "ipython3",
   "version": "3.6.6"
  }
 },
 "nbformat": 4,
 "nbformat_minor": 2
}
