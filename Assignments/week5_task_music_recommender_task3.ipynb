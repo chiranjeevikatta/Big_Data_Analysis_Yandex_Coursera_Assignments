{
 "cells": [
  {
   "cell_type": "code",
   "execution_count": 91,
   "metadata": {},
   "outputs": [],
   "source": [
    "import pyspark"
   ]
  },
  {
   "cell_type": "code",
   "execution_count": 92,
   "metadata": {},
   "outputs": [],
   "source": [
    "from pyspark.sql import SparkSession"
   ]
  },
  {
   "cell_type": "code",
   "execution_count": 93,
   "metadata": {},
   "outputs": [],
   "source": [
    "spark = SparkSession.builder.appName('week5GraphTask2').enableHiveSupport().master('yarn').getOrCreate()"
   ]
  },
  {
   "cell_type": "code",
   "execution_count": 94,
   "metadata": {},
   "outputs": [
    {
     "data": {
      "text/html": [
       "\n",
       "            <div>\n",
       "                <p><b>SparkSession - hive</b></p>\n",
       "                \n",
       "        <div>\n",
       "            <p><b>SparkContext</b></p>\n",
       "\n",
       "            <p><a href=\"http://172.17.0.67:4040\">Spark UI</a></p>\n",
       "\n",
       "            <dl>\n",
       "              <dt>Version</dt>\n",
       "                <dd><code>v2.4.7</code></dd>\n",
       "              <dt>Master</dt>\n",
       "                <dd><code>yarn</code></dd>\n",
       "              <dt>AppName</dt>\n",
       "                <dd><code>week5GraphTask2</code></dd>\n",
       "            </dl>\n",
       "        </div>\n",
       "        \n",
       "            </div>\n",
       "        "
      ],
      "text/plain": [
       "<pyspark.sql.session.SparkSession at 0x7f6ef7c88c50>"
      ]
     },
     "execution_count": 94,
     "metadata": {},
     "output_type": "execute_result"
    }
   ],
   "source": [
    "spark"
   ]
  },
  {
   "cell_type": "code",
   "execution_count": 95,
   "metadata": {},
   "outputs": [],
   "source": [
    "from pyspark.sql import Window\n",
    "from pyspark.sql.functions import row_number,col,sum,count"
   ]
  },
  {
   "cell_type": "code",
   "execution_count": 96,
   "metadata": {},
   "outputs": [],
   "source": [
    "data = spark.read.parquet(\"/data/sample264\")"
   ]
  },
  {
   "cell_type": "code",
   "execution_count": 97,
   "metadata": {},
   "outputs": [
    {
     "name": "stdout",
     "output_type": "stream",
     "text": [
      "+------+-------+--------+----------+\n",
      "|userId|trackId|artistId| timestamp|\n",
      "+------+-------+--------+----------+\n",
      "| 13065| 944906|  978428|1501588527|\n",
      "|101897| 799685|  989262|1501555608|\n",
      "|215049| 871513|  988199|1501604269|\n",
      "|309769| 857670|  987809|1501540265|\n",
      "|397833| 903510|  994595|1501597615|\n",
      "|501769| 818149|  994975|1501577955|\n",
      "|601353| 958990|  973098|1501602467|\n",
      "|710921| 916226|  972031|1501611582|\n",
      "|  6743| 801006|  994339|1501584964|\n",
      "|152407| 913509|  994334|1501571055|\n",
      "|256855| 922936| 1001905|1501592059|\n",
      "|366423| 858904|  974503|1501571685|\n",
      "|479319| 816927|  975237|1501589184|\n",
      "|589911| 960078|  995315|1501555145|\n",
      "|673367| 825174|  970511|1501549783|\n",
      "|  2237| 933052| 1000942|1501574276|\n",
      "|108477| 850266|  974937|1501570638|\n",
      "|225725| 878963|  986907|1501574389|\n",
      "|302781| 934017|  974572|1501600590|\n",
      "|399037| 901023|  974580|1501603463|\n",
      "+------+-------+--------+----------+\n",
      "only showing top 20 rows\n",
      "\n"
     ]
    }
   ],
   "source": [
    "data.show()"
   ]
  },
  {
   "cell_type": "code",
   "execution_count": 98,
   "metadata": {},
   "outputs": [],
   "source": [
    "datagrp = data.groupBy(col('userId'),col('artistId')).agg(count(col('userId')).alias('ct'))"
   ]
  },
  {
   "cell_type": "code",
   "execution_count": 99,
   "metadata": {},
   "outputs": [],
   "source": [
    "window = Window.partitionBy(col('userId')).orderBy(col('ct').desc())"
   ]
  },
  {
   "cell_type": "code",
   "execution_count": 100,
   "metadata": {},
   "outputs": [],
   "source": [
    "# datagrp.filter(col('userId') == 13065).show()"
   ]
  },
  {
   "cell_type": "code",
   "execution_count": 101,
   "metadata": {},
   "outputs": [],
   "source": [
    "datalmt = datagrp.withColumn('row_number',row_number().over(window))\\\n",
    "    .filter(col('row_number')<= 1000).drop(col('row_number'))"
   ]
  },
  {
   "cell_type": "code",
   "execution_count": 90,
   "metadata": {},
   "outputs": [],
   "source": [
    "# datalmt.show()"
   ]
  },
  {
   "cell_type": "code",
   "execution_count": 102,
   "metadata": {},
   "outputs": [],
   "source": [
    "datalmtgrp = datalmt.groupBy(col('userId')).agg(sum(col('ct')).alias('sum_ct'))"
   ]
  },
  {
   "cell_type": "code",
   "execution_count": 103,
   "metadata": {},
   "outputs": [],
   "source": [
    "data_norm  = datagrp.join(datalmtgrp,'userId','inner').withColumn('norm',col('ct')/col('sum_ct'))"
   ]
  },
  {
   "cell_type": "code",
   "execution_count": 105,
   "metadata": {},
   "outputs": [],
   "source": [
    "res = data_norm.orderBy(col('norm').desc(),col('userId'),col('artistId')).limit(40)"
   ]
  },
  {
   "cell_type": "code",
   "execution_count": 106,
   "metadata": {},
   "outputs": [],
   "source": [
    "res_final = res.select(col('userId'),col('artistId'))"
   ]
  },
  {
   "cell_type": "code",
   "execution_count": 107,
   "metadata": {},
   "outputs": [
    {
     "name": "stdout",
     "output_type": "stream",
     "text": [
      "66\t993426\n",
      "116\t974937\n",
      "128\t1003021\n",
      "131\t983068\n",
      "195\t997265\n",
      "215\t991696\n",
      "235\t990642\n",
      "288\t1000564\n",
      "300\t1003362\n",
      "321\t986172\n",
      "328\t967986\n",
      "333\t1000416\n",
      "346\t982037\n",
      "356\t974846\n",
      "374\t1003167\n",
      "428\t993161\n",
      "431\t969340\n",
      "445\t970387\n",
      "488\t970525\n",
      "542\t969751\n",
      "612\t987351\n",
      "617\t970240\n",
      "649\t973851\n",
      "658\t973232\n",
      "662\t975279\n",
      "698\t995788\n",
      "708\t968848\n",
      "746\t972032\n",
      "747\t972032\n",
      "776\t997265\n",
      "784\t969853\n",
      "806\t995126\n",
      "811\t996436\n",
      "837\t989262\n",
      "901\t988199\n",
      "923\t977066\n",
      "934\t990860\n",
      "957\t991171\n",
      "989\t975339\n",
      "999\t968823\n"
     ]
    }
   ],
   "source": [
    "for t1,t2 in res_final.collect():\n",
    "    print('{}\\t{}'.format(t1,t2))"
   ]
  },
  {
   "cell_type": "code",
   "execution_count": null,
   "metadata": {},
   "outputs": [],
   "source": []
  }
 ],
 "metadata": {
  "kernelspec": {
   "display_name": "Python 3",
   "language": "python",
   "name": "python3"
  },
  "language_info": {
   "codemirror_mode": {
    "name": "ipython",
    "version": 3
   },
   "file_extension": ".py",
   "mimetype": "text/x-python",
   "name": "python",
   "nbconvert_exporter": "python",
   "pygments_lexer": "ipython3",
   "version": "3.6.6"
  }
 },
 "nbformat": 4,
 "nbformat_minor": 2
}
