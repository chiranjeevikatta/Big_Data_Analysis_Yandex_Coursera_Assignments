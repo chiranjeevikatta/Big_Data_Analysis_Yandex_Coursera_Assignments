{
 "cells": [
  {
   "cell_type": "code",
   "execution_count": 108,
   "metadata": {},
   "outputs": [],
   "source": [
    "import pyspark"
   ]
  },
  {
   "cell_type": "code",
   "execution_count": 109,
   "metadata": {},
   "outputs": [],
   "source": [
    "from pyspark.sql import SparkSession"
   ]
  },
  {
   "cell_type": "code",
   "execution_count": 110,
   "metadata": {},
   "outputs": [],
   "source": [
    "spark = SparkSession.builder.appName('week5GraphTask2').enableHiveSupport().master('yarn').getOrCreate()"
   ]
  },
  {
   "cell_type": "code",
   "execution_count": 111,
   "metadata": {},
   "outputs": [
    {
     "data": {
      "text/html": [
       "\n",
       "            <div>\n",
       "                <p><b>SparkSession - hive</b></p>\n",
       "                \n",
       "        <div>\n",
       "            <p><b>SparkContext</b></p>\n",
       "\n",
       "            <p><a href=\"http://172.17.0.67:4040\">Spark UI</a></p>\n",
       "\n",
       "            <dl>\n",
       "              <dt>Version</dt>\n",
       "                <dd><code>v2.4.7</code></dd>\n",
       "              <dt>Master</dt>\n",
       "                <dd><code>yarn</code></dd>\n",
       "              <dt>AppName</dt>\n",
       "                <dd><code>week5GraphTask2</code></dd>\n",
       "            </dl>\n",
       "        </div>\n",
       "        \n",
       "            </div>\n",
       "        "
      ],
      "text/plain": [
       "<pyspark.sql.session.SparkSession at 0x7f6ef7c88c50>"
      ]
     },
     "execution_count": 111,
     "metadata": {},
     "output_type": "execute_result"
    }
   ],
   "source": [
    "spark"
   ]
  },
  {
   "cell_type": "code",
   "execution_count": 112,
   "metadata": {},
   "outputs": [],
   "source": [
    "from pyspark.sql import Window\n",
    "from pyspark.sql.functions import row_number,col,sum,count"
   ]
  },
  {
   "cell_type": "code",
   "execution_count": 113,
   "metadata": {},
   "outputs": [],
   "source": [
    "data = spark.read.parquet(\"/data/sample264\")"
   ]
  },
  {
   "cell_type": "code",
   "execution_count": 115,
   "metadata": {},
   "outputs": [],
   "source": [
    "# data.show()"
   ]
  },
  {
   "cell_type": "code",
   "execution_count": 116,
   "metadata": {},
   "outputs": [],
   "source": [
    "datagrp = data.groupBy(col('artistId'),col('trackId')).agg(count(col('userId')).alias('ct'))"
   ]
  },
  {
   "cell_type": "code",
   "execution_count": 117,
   "metadata": {},
   "outputs": [],
   "source": [
    "window = Window.partitionBy(col('artistId')).orderBy(col('ct').desc())"
   ]
  },
  {
   "cell_type": "code",
   "execution_count": 118,
   "metadata": {},
   "outputs": [],
   "source": [
    "# datagrp.filter(col('userId') == 13065).show()"
   ]
  },
  {
   "cell_type": "code",
   "execution_count": 119,
   "metadata": {},
   "outputs": [],
   "source": [
    "datalmt = datagrp.withColumn('row_number',row_number().over(window))\\\n",
    "    .filter(col('row_number')<= 1000).drop(col('row_number'))"
   ]
  },
  {
   "cell_type": "code",
   "execution_count": 120,
   "metadata": {},
   "outputs": [],
   "source": [
    "# datalmt.show()"
   ]
  },
  {
   "cell_type": "code",
   "execution_count": 121,
   "metadata": {},
   "outputs": [],
   "source": [
    "datalmtgrp = datalmt.groupBy(col('artistId')).agg(sum(col('ct')).alias('sum_ct'))"
   ]
  },
  {
   "cell_type": "code",
   "execution_count": 122,
   "metadata": {},
   "outputs": [],
   "source": [
    "data_norm  = datagrp.join(datalmtgrp,'artistId','inner').withColumn('norm',col('ct')/col('sum_ct'))"
   ]
  },
  {
   "cell_type": "code",
   "execution_count": 125,
   "metadata": {},
   "outputs": [],
   "source": [
    "res = data_norm.orderBy(col('norm').desc(),col('artistId'),col('trackId')).limit(40)"
   ]
  },
  {
   "cell_type": "code",
   "execution_count": 126,
   "metadata": {},
   "outputs": [],
   "source": [
    "res_final = res.select(col('artistId'),col('trackId'))"
   ]
  },
  {
   "cell_type": "code",
   "execution_count": 127,
   "metadata": {},
   "outputs": [
    {
     "name": "stdout",
     "output_type": "stream",
     "text": [
      "967993\t869415\n",
      "967998\t947428\n",
      "968004\t927380\n",
      "968017\t859321\n",
      "968022\t852786\n",
      "968034\t807671\n",
      "968038\t964150\n",
      "968042\t835935\n",
      "968043\t913568\n",
      "968046\t935077\n",
      "968047\t806127\n",
      "968065\t907906\n",
      "968073\t964586\n",
      "968086\t813446\n",
      "968092\t837129\n",
      "968118\t914441\n",
      "968125\t821410\n",
      "968140\t953008\n",
      "968148\t877445\n",
      "968161\t809793\n",
      "968163\t803065\n",
      "968168\t876119\n",
      "968189\t858639\n",
      "968221\t896937\n",
      "968224\t892880\n",
      "968232\t825536\n",
      "968237\t932845\n",
      "968238\t939177\n",
      "968241\t879045\n",
      "968242\t911250\n",
      "968248\t953554\n",
      "968255\t808494\n",
      "968259\t880230\n",
      "968265\t950148\n",
      "968266\t824437\n",
      "968269\t913243\n",
      "968272\t816049\n",
      "968278\t946743\n",
      "968285\t847460\n",
      "968286\t940006\n"
     ]
    }
   ],
   "source": [
    "for t1,t2 in res_final.collect():\n",
    "    print('{}\\t{}'.format(t1,t2))"
   ]
  },
  {
   "cell_type": "code",
   "execution_count": null,
   "metadata": {},
   "outputs": [],
   "source": []
  }
 ],
 "metadata": {
  "kernelspec": {
   "display_name": "Python 3",
   "language": "python",
   "name": "python3"
  },
  "language_info": {
   "codemirror_mode": {
    "name": "ipython",
    "version": 3
   },
   "file_extension": ".py",
   "mimetype": "text/x-python",
   "name": "python",
   "nbconvert_exporter": "python",
   "pygments_lexer": "ipython3",
   "version": "3.6.6"
  }
 },
 "nbformat": 4,
 "nbformat_minor": 2
}
