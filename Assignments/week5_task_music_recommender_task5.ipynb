{
 "cells": [
  {
   "cell_type": "code",
   "execution_count": 128,
   "metadata": {},
   "outputs": [],
   "source": [
    "import pyspark"
   ]
  },
  {
   "cell_type": "code",
   "execution_count": 129,
   "metadata": {},
   "outputs": [],
   "source": [
    "from pyspark.sql import SparkSession"
   ]
  },
  {
   "cell_type": "code",
   "execution_count": 130,
   "metadata": {},
   "outputs": [],
   "source": [
    "spark = SparkSession.builder.appName('week5GraphTask5').enableHiveSupport().master('yarn').getOrCreate()"
   ]
  },
  {
   "cell_type": "code",
   "execution_count": 134,
   "metadata": {},
   "outputs": [
    {
     "data": {
      "text/html": [
       "\n",
       "            <div>\n",
       "                <p><b>SparkSession - hive</b></p>\n",
       "                \n",
       "        <div>\n",
       "            <p><b>SparkContext</b></p>\n",
       "\n",
       "            <p><a href=\"http://172.17.0.67:4040\">Spark UI</a></p>\n",
       "\n",
       "            <dl>\n",
       "              <dt>Version</dt>\n",
       "                <dd><code>v2.4.7</code></dd>\n",
       "              <dt>Master</dt>\n",
       "                <dd><code>yarn</code></dd>\n",
       "              <dt>AppName</dt>\n",
       "                <dd><code>week5GraphTask2</code></dd>\n",
       "            </dl>\n",
       "        </div>\n",
       "        \n",
       "            </div>\n",
       "        "
      ],
      "text/plain": [
       "<pyspark.sql.session.SparkSession at 0x7f6ef7c88c50>"
      ]
     },
     "execution_count": 134,
     "metadata": {},
     "output_type": "execute_result"
    }
   ],
   "source": [
    "spark"
   ]
  },
  {
   "cell_type": "code",
   "execution_count": 135,
   "metadata": {},
   "outputs": [],
   "source": [
    "from pyspark.sql import Window\n",
    "from pyspark.sql.functions import row_number,col,sum,count"
   ]
  },
  {
   "cell_type": "code",
   "execution_count": 173,
   "metadata": {},
   "outputs": [],
   "source": [
    "data = spark.read.parquet(\"/data/sample264\")\n",
    "meta = spark.read.parquet(\"/data/meta\")"
   ]
  },
  {
   "cell_type": "code",
   "execution_count": 174,
   "metadata": {},
   "outputs": [],
   "source": [
    "dataftr = data.filter(col('userId')== 776748)"
   ]
  },
  {
   "cell_type": "code",
   "execution_count": 175,
   "metadata": {},
   "outputs": [],
   "source": [
    "artist = dataftr.withColumnRenamed('artistId','Id').groupBy(col('Id')).count()"
   ]
  },
  {
   "cell_type": "code",
   "execution_count": 176,
   "metadata": {},
   "outputs": [],
   "source": [
    "track = dataftr.withColumnRenamed('trackId','Id').groupBy(col('Id')).count()"
   ]
  },
  {
   "cell_type": "code",
   "execution_count": 177,
   "metadata": {},
   "outputs": [],
   "source": [
    "res = artist.union(track).join(meta,'Id').select(col('Artist'),col('Name')).orderBy(col('Artist'),col('Name')).limit(40)"
   ]
  },
  {
   "cell_type": "code",
   "execution_count": 178,
   "metadata": {},
   "outputs": [
    {
     "name": "stdout",
     "output_type": "stream",
     "text": [
      "Artist: 3 Doors Down\tArtist: 3 Doors Down\n",
      "Artist: 3 Doors Down\tKryptonite\n",
      "Artist: 311\tArtist: 311\n",
      "Artist: 311\tBeautiful disaster\n",
      "Artist: Blur\tArtist: Blur\n",
      "Artist: Blur\tGirls and Boys\n",
      "Artist: Clawfinger\tArtist: Clawfinger\n",
      "Artist: Clawfinger\tNothing Going On\n",
      "Artist: Disturbed\tArtist: Disturbed\n",
      "Artist: Disturbed\tThe Vengeful One\n",
      "Artist: Gotthard\tArtist: Gotthard\n",
      "Artist: Gotthard\tEagle\n",
      "Artist: Green Day\t21 Guns\n",
      "Artist: Green Day\tArtist: Green Day\n",
      "Artist: Green Day\tKill The DJ\n",
      "Artist: Iggy Pop\tArtist: Iggy Pop\n",
      "Artist: Iggy Pop\tSunday\n",
      "Artist: Korn\tArtist: Korn\n",
      "Artist: Korn\tHere To Stay\n",
      "Artist: Linkin Park\tArtist: Linkin Park\n",
      "Artist: Linkin Park\tIn The End\n",
      "Artist: Linkin Park\tNumb\n",
      "Artist: Lordi\tArtist: Lordi\n",
      "Artist: Lordi\tHard Rock Hallelujah\n",
      "Artist: Nickelback\tArtist: Nickelback\n",
      "Artist: Nickelback\tShe Keeps Me Up\n",
      "Artist: Nomy\tArtist: Nomy\n",
      "Artist: Nomy\tCocaine\n",
      "Artist: Papa Roach\tArtist: Papa Roach\n",
      "Artist: Papa Roach\tGetting Away With Murder\n",
      "Artist: Rise Against\tArtist: Rise Against\n",
      "Artist: Rise Against\tPrayer Of The Refugee\n",
      "Artist: Serj Tankian\tArtist: Serj Tankian\n",
      "Artist: Serj Tankian\tSky is Over\n",
      "Artist: Slipknot\tArtist: Slipknot\n",
      "Artist: Slipknot\tWait And Bleed\n",
      "Artist: The Offspring\tArtist: The Offspring\n",
      "Artist: The Offspring\tCome Out and Play\n",
      "Artist: Thousand Foot Krutch\tArtist: Thousand Foot Krutch\n",
      "Artist: Thousand Foot Krutch\tTake It Out On Me\n"
     ]
    }
   ],
   "source": [
    "for t1,t2 in res.collect():\n",
    "    print('{}\\t{}'.format(t1,t2))"
   ]
  },
  {
   "cell_type": "code",
   "execution_count": null,
   "metadata": {},
   "outputs": [],
   "source": []
  }
 ],
 "metadata": {
  "kernelspec": {
   "display_name": "Python 3",
   "language": "python",
   "name": "python3"
  },
  "language_info": {
   "codemirror_mode": {
    "name": "ipython",
    "version": 3
   },
   "file_extension": ".py",
   "mimetype": "text/x-python",
   "name": "python",
   "nbconvert_exporter": "python",
   "pygments_lexer": "ipython3",
   "version": "3.6.6"
  }
 },
 "nbformat": 4,
 "nbformat_minor": 2
}
